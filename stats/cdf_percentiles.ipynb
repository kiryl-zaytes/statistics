{
 "cells": [
  {
   "cell_type": "markdown",
   "metadata": {},
   "source": [
    "### Histogram, PDF\n",
    "\n",
    "Histograms are useful because they make the most frequent values immedi- ately apparent. But they are not the best choice for comparing two distributions. In this example, there are fewer “first babies” than “others,” so some of the apparent differences in the histograms are due to sample sizes. In the next chapter we address this problem using probability mass functions.     \n",
    "A histogram is a complete description of the distribution of a sample; that is, given a histogram, we could reconstruct the values in the sample (although not their order).     \n",
    "If the details of the distribution are important, it might be necessary to present a histogram. But often we want to summarize the distribution with a few descriptive statistics.\n",
    "Some of the characteristics we might want to report are:\n",
    " - central tendency: Do the values tend to cluster around a particular point?\n",
    " - modes: Is there more than one cluster?\n",
    " - spread: How much variability is there in the values?\n",
    " - tails: How quickly do the probabilities drop off as we move away from the modes?\n",
    " - outliers: Are there extreme values far from the modes?"
   ]
  },
  {
   "cell_type": "markdown",
   "metadata": {},
   "source": [
    "Another way to represent a distribution is a probability mass function (PMF), which maps from each value to its probability. A probability is a frequency expressed as a fraction of the sample size, n. To get from frequen- cies to probabilities, we divide through by n, which is called normalization."
   ]
  },
  {
   "cell_type": "markdown",
   "metadata": {},
   "source": [
    "\n",
    "Pmf and Hist objects are similar in many ways; in fact, they inherit many of their methods from a common parent class. For example, the methods Values and Items work the same way for both. The biggest difference is that a Hist maps from values to integer counters; a Pmf maps from values to floating-point probabilities."
   ]
  },
  {
   "cell_type": "markdown",
   "metadata": {},
   "source": [
    "Histograms and PMFs are useful while you are exploring data and trying to identify patterns and relationships. Once you have an idea what is going on, a good next step is to design a visualization that makes the patterns you have identified as clear as possible."
   ]
  },
  {
   "cell_type": "markdown",
   "metadata": {},
   "source": [
    "It is also good move to visualize difference in pmf values as bar plot from negative to positive plain."
   ]
  },
  {
   "cell_type": "code",
   "execution_count": 2,
   "metadata": {},
   "outputs": [],
   "source": [
    "import site\n",
    "site.addsitedir('./code')\n",
    "\n",
    "from __future__ import print_function, division\n",
    "%matplotlib inline\n",
    "\n",
    "import numpy as np\n",
    "import matplotlib.pyplot as plt\n",
    "import pandas as pd\n",
    "import nsfg\n",
    "import first\n",
    "import thinkstats2\n",
    "import thinkplot\n",
    "\n",
    "resp = nsfg.ReadFemResp(dct_file='./code/2002FemResp.dct',\n",
    "                dat_file='./code/2002FemResp.dat.gz')"
   ]
  },
  {
   "cell_type": "code",
   "execution_count": 3,
   "metadata": {},
   "outputs": [
    {
     "data": {
      "text/plain": [
       "(array([3563.,    0., 1636.,    0., 1500.,    0.,  666.,    0.,  196.,\n",
       "          82.]),\n",
       " array([0. , 0.5, 1. , 1.5, 2. , 2.5, 3. , 3.5, 4. , 4.5, 5. ]),\n",
       " <a list of 10 Patch objects>)"
      ]
     },
     "execution_count": 3,
     "metadata": {},
     "output_type": "execute_result"
    },
    {
     "data": {
      "image/png": "[encoded data removed]",
      "text/plain": [
       "<matplotlib.figure.Figure at 0x10f0bc898>"
      ]
     },
     "metadata": {},
     "output_type": "display_data"
    }
   ],
   "source": [
    "under_18 = resp[resp.numkdhh < 18]\n",
    "above_18 = resp[resp.numkdhh <10]\n",
    "plt.hist(data=under_18, x='numkdhh')"
   ]
  },
  {
   "cell_type": "code",
   "execution_count": 4,
   "metadata": {},
   "outputs": [
    {
     "data": {
      "image/png": "[encoded data removed]",
      "text/plain": [
       "<matplotlib.figure.Figure at 0x1160ae470>"
      ]
     },
     "metadata": {},
     "output_type": "display_data"
    }
   ],
   "source": [
    "actual = thinkstats2.Pmf(under_18.numkdhh)\n",
    "thinkplot.Hist(actual)"
   ]
  },
  {
   "cell_type": "code",
   "execution_count": 5,
   "metadata": {},
   "outputs": [],
   "source": [
    "def BiasPmf(pmf, label):\n",
    "    new_pmf = pmf.Copy(label=label)\n",
    "    for x, p in pmf.Items():\n",
    "        new_pmf.Mult(x, x)\n",
    "    new_pmf.Normalize()\n",
    "    return new_pmf"
   ]
  },
  {
   "cell_type": "code",
   "execution_count": 6,
   "metadata": {},
   "outputs": [
    {
     "name": "stdout",
     "output_type": "stream",
     "text": [
      "2.403679100664282\n",
      "1.024205155043831\n"
     ]
    },
    {
     "data": {
      "image/png": "[encoded data removed]",
      "text/plain": [
       "<matplotlib.figure.Figure at 0x10f0bc320>"
      ]
     },
     "metadata": {},
     "output_type": "display_data"
    }
   ],
   "source": [
    "biased = BiasPmf(actual, label='biased')\n",
    "thinkplot.PrePlot(2)\n",
    "thinkplot.Pmfs([biased, actual])\n",
    "print(biased.Mean())\n",
    "print(actual.Mean())"
   ]
  },
  {
   "cell_type": "markdown",
   "metadata": {},
   "source": [
    "If you are given a PMF, you can still compute the mean, but the process is slightly different:    \n",
    "$x ̄ =   \\sum (p_i x_i)$\n",
    "\n",
    "where the xi are the unique values in the PMF and pi = PMF(xi). Similarly, you can compute variance like this:    \n",
    "$ S^2 =  \\sum (p_i ( x_i − x ̄ )^2)$"
   ]
  },
  {
   "cell_type": "code",
   "execution_count": 7,
   "metadata": {},
   "outputs": [],
   "source": [
    "def mean_pmf(pmf):\n",
    "    res = 0\n",
    "    for k in pmf:\n",
    "        res+=k * pmf[k]\n",
    "    return res\n",
    "\n",
    "def variance_pmf(pmf):\n",
    "    res=0\n",
    "    mean = mean_pmf(pmf)\n",
    "    for k in pmf:\n",
    "        res+=k * (pmf[k] - mean) **2\n",
    "    return res\n",
    "    "
   ]
  },
  {
   "cell_type": "code",
   "execution_count": 8,
   "metadata": {},
   "outputs": [
    {
     "data": {
      "text/plain": [
       "(1.024205155043831, 13.785788755984738)"
      ]
     },
     "execution_count": 8,
     "metadata": {},
     "output_type": "execute_result"
    }
   ],
   "source": [
    "mean_pmf(actual) ,variance_pmf(actual)"
   ]
  },
  {
   "cell_type": "markdown",
   "metadata": {},
   "source": [
    "### Cumulative distribution functions, CDF\n"
   ]
  },
  {
   "cell_type": "markdown",
   "metadata": {},
   "source": [
    "PMFs work well if the number of values is small. But as the number of values increases, the probability associated with each value gets smaller and the effect of random noise increases."
   ]
  },
  {
   "cell_type": "code",
   "execution_count": 9,
   "metadata": {},
   "outputs": [],
   "source": [
    "def percentile_rank(scores, your_score):\n",
    "    rnk = 0\n",
    "    for s in scores:\n",
    "        if your_score >= s:\n",
    "            rnk+=1\n",
    "    rank = 100 * rnk/len(scores)\n",
    "    return rank\n",
    "\n",
    "def percentile(scores, rank):\n",
    "    scores.sort()\n",
    "    ind = rank * (len(scores)-1) // 100\n",
    "    return scores[ind]"
   ]
  },
  {
   "cell_type": "code",
   "execution_count": 10,
   "metadata": {},
   "outputs": [
    {
     "data": {
      "text/plain": [
       "(50.0, 5)"
      ]
     },
     "execution_count": 10,
     "metadata": {},
     "output_type": "execute_result"
    }
   ],
   "source": [
    "percentile_rank([1,2,3,4,5,6,7,8,9,10], 5), percentile([1,2,3,4,5,6,7,8,9,10], 50)"
   ]
  },
  {
   "cell_type": "markdown",
   "metadata": {},
   "source": [
    "The CDF is the function that maps from a value to its percentile rank."
   ]
  },
  {
   "cell_type": "code",
   "execution_count": 11,
   "metadata": {},
   "outputs": [],
   "source": [
    "def evalCDF(sample, x):\n",
    "    count=0.0\n",
    "    for i in sample:\n",
    "        if x >= i:\n",
    "            count+=1\n",
    "    return count / len(sample)"
   ]
  },
  {
   "cell_type": "markdown",
   "metadata": {},
   "source": [
    "This function is almost identical to PercentileRank, except that the result is a probability in the range 0–1 rather than a percentile rank in the range 0–100.\n",
    "As an example, suppose we collect a sample with the values [1, 2, 2, 3, 5]. Here are some values from its CDF:\n",
    "CDF(0) = 0\n",
    "CDF(1) = 0.2 CDF(2) = 0.6 CDF(3) = 0.8 CDF(4) = 0.8 CDF(5) = 1"
   ]
  },
  {
   "cell_type": "code",
   "execution_count": 12,
   "metadata": {},
   "outputs": [
    {
     "data": {
      "text/plain": [
       "0.8"
      ]
     },
     "execution_count": 12,
     "metadata": {},
     "output_type": "execute_result"
    }
   ],
   "source": [
    "evalCDF([3,5,3,2,1], 4)"
   ]
  },
  {
   "cell_type": "code",
   "execution_count": 13,
   "metadata": {},
   "outputs": [
    {
     "data": {
      "image/png": "[encoded data removed]",
      "text/plain": [
       "<matplotlib.figure.Figure at 0x1160427f0>"
      ]
     },
     "metadata": {},
     "output_type": "display_data"
    }
   ],
   "source": [
    "cdf1 = thinkstats2.Cdf(under_18.numkdhh, label='first')\n",
    "cdf2 = thinkstats2.Cdf(above_18.numkdhh, label='other')\n",
    "thinkplot.PrePlot(2)\n",
    "thinkplot.Cdfs([cdf1, cdf2])"
   ]
  },
  {
   "cell_type": "code",
   "execution_count": 17,
   "metadata": {},
   "outputs": [
    {
     "data": {
      "text/plain": [
       "{'xscale': 'linear', 'yscale': 'linear'}"
      ]
     },
     "execution_count": 17,
     "metadata": {},
     "output_type": "execute_result"
    },
    {
     "data": {
      "image/png": "[encoded data removed]",
      "text/plain": [
       "<matplotlib.figure.Figure at 0x11607dda0>"
      ]
     },
     "metadata": {},
     "output_type": "display_data"
    }
   ],
   "source": [
    "random_u18 = np.random.choice(under_18.numkdhh, 100, replace=True)\n",
    "ranks = [cdf1.PercentileRank(r) for r in random_u18]\n",
    "cdf_rank = thinkstats2.Cdf(ranks)\n",
    "thinkplot.Cdf(cdf_rank)"
   ]
  },
  {
   "cell_type": "markdown",
   "metadata": {},
   "source": [
    "#### Comparing percentile ranks\n",
    "Percentile ranks are useful for comparing measurements across different groups. For example, people who compete in foot races are usually grouped by age and gender. To compare people in different age groups, you can convert race times to percentile ranks.\n",
    "A few years ago I ran the James Joyce Ramble 10K in Dedham MA; I finished in 42:44, which was 97th in a field of 1633. I beat or tied 1537 runners out of 1633, so my percentile rank in the field is 94%.\n",
    "In my age group, denoted M4049 for “male between 40 and 49 years of age”, I came in 26th out of 256. So my percentile rank in my age group was 90%.\n",
    "If I am still running in 10 years (and I hope I am), I will be in the M5059 division. Assuming that my percentile rank in my division is the same, how much slower should I expect to be?\n",
    "I can answer that question by converting my percentile rank in M4049 to a position in M5059. Here’s the code:\n",
    "\n",
    "def PercentileToPosition(percentile, field_size):\n",
    "    beat = percentile * field_size / 100.0\n",
    "    position = field_size - beat + 1\n",
    "    return position\n",
    " \n",
    "There were 171 people in M5059, so I would have to come in between 17th and 18th place to have the same percentile rank. The finishing time of the 17th runner in M5059 was 46:05, so that’s the time I will have to beat to maintain my percentile rank.\n"
   ]
  },
  {
   "cell_type": "markdown",
   "metadata": {},
   "source": [
    "Glossary\n",
    "-  percentile rank: The percentage of values in a distribution that are less than or equal to a given value.\n",
    "-  percentile: The value associated with a given percentile rank.\n",
    "-  cumulative distribution function (CDF): A function that maps from values to their cumulative probabilities. CDF(x) is the fraction of the sample less than or equal to x.\n",
    "-  inverse CDF: A function that maps from a cumulative probability, p, to the corresponding value.\n",
    " \n",
    "- median: The 50th percentile, often used as a measure of central ten- dency.\n",
    "- interquartile range: The difference between the 75th and 25th per- centiles, used as a measure of spread.\n",
    "- quantile: A sequence of values that correspond to equally spaced per- centile ranks; for example, the quartiles of a distribution are the 25th, 50th and 75th percentiles.\n",
    "- replacement: A property of a sampling process. “With replacement” means that the same value can be chosen more than once; “without replacement” means that once a value is chosen, it is removed from the population."
   ]
  },
  {
   "cell_type": "code",
   "execution_count": 23,
   "metadata": {},
   "outputs": [
    {
     "data": {
      "text/plain": [
       "(array([ 88., 115., 100.,  99.,  94., 106.,  88., 110., 102.,  98.]),\n",
       " array([7.68515507e-04, 1.00616757e-01, 2.00464998e-01, 3.00313239e-01,\n",
       "        4.00161480e-01, 5.00009722e-01, 5.99857963e-01, 6.99706204e-01,\n",
       "        7.99554445e-01, 8.99402686e-01, 9.99250928e-01]),\n",
       " <a list of 10 Patch objects>)"
      ]
     },
     "execution_count": 23,
     "metadata": {},
     "output_type": "execute_result"
    },
    {
     "data": {
      "image/png": "[encoded data removed]",
      "text/plain": [
       "<matplotlib.figure.Figure at 0x11390df98>"
      ]
     },
     "metadata": {},
     "output_type": "display_data"
    }
   ],
   "source": [
    "t = np.random.random(1000)\n",
    "plt.hist(t)"
   ]
  },
  {
   "cell_type": "code",
   "execution_count": 105,
   "metadata": {},
   "outputs": [
    {
     "data": {
      "text/plain": [
       "[<matplotlib.lines.Line2D at 0x1a454049e8>]"
      ]
     },
     "execution_count": 105,
     "metadata": {},
     "output_type": "execute_result"
    },
    {
     "data": {
      "image/png": "[encoded data removed]",
      "text/plain": [
       "<matplotlib.figure.Figure at 0x1a45404e10>"
      ]
     },
     "metadata": {},
     "output_type": "display_data"
    }
   ],
   "source": [
    "fix, ax = plt.subplots(figsize=(8,4))\n",
    "ax.hist(t, 5, normed=1, histtype='step', cumulative=True)\n",
    "nor_t = (t_sum - np.min(t_sum))/np.ptp(t_sum)\n",
    "x = list(range(0, 1000))\n",
    "nor_t2 = (x - np.min(x))/np.ptp(x)\n",
    "ax.plot(nor_t, nor_t2)"
   ]
  },
  {
   "cell_type": "markdown",
   "metadata": {},
   "source": [
    "Straight line = uniform distribution."
   ]
  },
  {
   "cell_type": "markdown",
   "metadata": {},
   "source": [
    "**CDF** ( Cumulative Distribution Function)\n",
    "\n",
    "As the name cumulative suggests, this is simply the probability upto a particular value of the random variable, say x. Generally denoted by F, F= P (X<=x) for any value of x in the X space. It is defined for both discrete and continuous random variables.\n",
    "\n",
    "**PDF** ( probability density function)\n",
    "This basically is a probability law for a continuous random variable say X ( for discrete, it is probability mass function).\n",
    "\n",
    "**PMF** \n",
    "Probability law for a discrete random variable."
   ]
  }
 ],
 "metadata": {
  "kernelspec": {
   "display_name": "Python 3",
   "language": "python",
   "name": "python3"
  },
  "language_info": {
   "codemirror_mode": {
    "name": "ipython",
    "version": 3
   },
   "file_extension": ".py",
   "mimetype": "text/x-python",
   "name": "python",
   "nbconvert_exporter": "python",
   "pygments_lexer": "ipython3",
   "version": "3.6.4"
  },
  "toc": {
   "nav_menu": {},
   "number_sections": true,
   "sideBar": true,
   "skip_h1_title": false,
   "title_cell": "Table of Contents",
   "title_sidebar": "Contents",
   "toc_cell": false,
   "toc_position": {},
   "toc_section_display": true,
   "toc_window_display": false
  }
 },
 "nbformat": 4,
 "nbformat_minor": 2
}
