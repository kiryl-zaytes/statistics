{
 "cells": [
  {
   "cell_type": "markdown",
   "metadata": {},
   "source": [
    "### Task 1.\n",
    "Find which sentences in provided text \"cats.txt\" have more in common with first one than others. All sentences are related to 'cats' but in some cases those are pets, in some - linux command 'cat' and also it could be os version of MaC.\n",
    "We will be using cosine distance to identify similarities."
   ]
  },
  {
   "cell_type": "code",
   "execution_count": 197,
   "metadata": {},
   "outputs": [],
   "source": [
    "import scipy as sp\n",
    "import numpy as np\n",
    "import pandas as pd\n",
    "import re\n",
    "import collections\n",
    "import scipy.spatial.distance as dist\n",
    "import scipy.optimize\n",
    "import scipy.linalg as lin\n",
    "import matplotlib.pyplot as plt\n",
    "import matplotlib\n",
    "import math\n",
    "import scipy.stats as sts\n",
    "np.__version__, sp.__version__, pd.__version__,matplotlib.__version__\n",
    "%matplotlib inline"
   ]
  },
  {
   "cell_type": "code",
   "execution_count": 115,
   "metadata": {},
   "outputs": [
    {
     "name": "stdout",
     "output_type": "stream",
     "text": [
      "In comparison to dogs, cats have not undergone major changes during the domestication process.\n",
      "\n"
     ]
    }
   ],
   "source": [
    "lines = []\n",
    "with open(\"cats.txt\", \"r\") as f:\n",
    "    lines = f.readlines()\n",
    "print(lines[0])"
   ]
  },
  {
   "cell_type": "code",
   "execution_count": 116,
   "metadata": {},
   "outputs": [
    {
     "name": "stdout",
     "output_type": "stream",
     "text": [
      "['in', 'comparison', 'to', 'dogs', '', 'cats', 'have', 'not', 'undergone', 'major', 'changes', 'during', 'the', 'domestication', 'process', '', '']\n"
     ]
    }
   ],
   "source": [
    "lines = [re.split('[^a-z]', l.lower()) for l in lines]\n",
    "print(lines[0])"
   ]
  },
  {
   "cell_type": "code",
   "execution_count": 117,
   "metadata": {},
   "outputs": [],
   "source": [
    "list_of_words = [collections.Counter(l) for l in lines]\n",
    "for i in list_of_words:\n",
    "    i.pop('', None)"
   ]
  },
  {
   "cell_type": "code",
   "execution_count": 114,
   "metadata": {},
   "outputs": [
    {
     "data": {
      "text/plain": [
       "[Counter({'cats': 1,\n",
       "          'changes': 1,\n",
       "          'comparison': 1,\n",
       "          'dogs': 1,\n",
       "          'domestication': 1,\n",
       "          'during': 1,\n",
       "          'have': 1,\n",
       "          'in': 1,\n",
       "          'major': 1,\n",
       "          'not': 1,\n",
       "          'process': 1,\n",
       "          'the': 1,\n",
       "          'to': 1,\n",
       "          'undergone': 1}),\n",
       " Counter({'also': 1,\n",
       "          'as': 1,\n",
       "          'be': 1,\n",
       "          'binary': 1,\n",
       "          'bytes': 2,\n",
       "          'can': 1,\n",
       "          'cat': 1,\n",
       "          'catenates': 1,\n",
       "          'concatenate': 2,\n",
       "          'files': 1,\n",
       "          'it': 2,\n",
       "          'just': 1,\n",
       "          'of': 2,\n",
       "          'sequence': 1,\n",
       "          'simply': 1,\n",
       "          'streams': 1,\n",
       "          'to': 1,\n",
       "          'used': 1,\n",
       "          'where': 1,\n",
       "          'will': 1}),\n",
       " Counter({'a': 3,\n",
       "          'cat': 1,\n",
       "          'common': 1,\n",
       "          'content': 1,\n",
       "          'file': 2,\n",
       "          'for': 1,\n",
       "          'interactive': 1,\n",
       "          'is': 1,\n",
       "          'of': 2,\n",
       "          'output': 2,\n",
       "          'single': 1,\n",
       "          'standard': 1,\n",
       "          'the': 1,\n",
       "          'to': 2,\n",
       "          'use': 1}),\n",
       " Counter({'and': 1,\n",
       "          'animals': 1,\n",
       "          'as': 1,\n",
       "          'by': 1,\n",
       "          'can': 1,\n",
       "          'cats': 1,\n",
       "          'ears': 1,\n",
       "          'faint': 1,\n",
       "          'for': 1,\n",
       "          'frequency': 1,\n",
       "          'hear': 1,\n",
       "          'high': 1,\n",
       "          'human': 1,\n",
       "          'in': 1,\n",
       "          'made': 1,\n",
       "          'mice': 1,\n",
       "          'or': 1,\n",
       "          'other': 1,\n",
       "          'small': 1,\n",
       "          'sounds': 1,\n",
       "          'such': 1,\n",
       "          'those': 1,\n",
       "          'too': 2}),\n",
       " Counter({'a': 1,\n",
       "          'artificial': 1,\n",
       "          'as': 1,\n",
       "          'cats': 1,\n",
       "          'deliberately': 1,\n",
       "          'in': 2,\n",
       "          'of': 2,\n",
       "          'one': 1,\n",
       "          'people': 1,\n",
       "          'predators': 1,\n",
       "          'process': 1,\n",
       "          'selection': 1,\n",
       "          'tamed': 1,\n",
       "          'they': 1,\n",
       "          'useful': 1,\n",
       "          'vermin': 1,\n",
       "          'were': 1}),\n",
       " Counter({'ancestor': 1,\n",
       "          'and': 2,\n",
       "          'are': 1,\n",
       "          'both': 1,\n",
       "          'cat': 1,\n",
       "          'chromosomes': 1,\n",
       "          'closest': 1,\n",
       "          'diploid': 1,\n",
       "          'domesticated': 1,\n",
       "          'genes': 1,\n",
       "          'its': 1,\n",
       "          'organisms': 1,\n",
       "          'possess': 1,\n",
       "          'roughly': 1,\n",
       "          'that': 1,\n",
       "          'the': 1,\n",
       "          'wild': 1}),\n",
       " Counter({'and': 2,\n",
       "          'are': 1,\n",
       "          'between': 1,\n",
       "          'cats': 1,\n",
       "          'domestic': 1,\n",
       "          'felis': 1,\n",
       "          'genus': 1,\n",
       "          'in': 1,\n",
       "          'kg': 1,\n",
       "          'lb': 1,\n",
       "          'members': 1,\n",
       "          'of': 1,\n",
       "          'other': 1,\n",
       "          'similar': 1,\n",
       "          'size': 1,\n",
       "          'the': 2,\n",
       "          'to': 1,\n",
       "          'typically': 1,\n",
       "          'weighing': 1}),\n",
       " Counter({'cat': 1,\n",
       "          'however': 1,\n",
       "          'if': 1,\n",
       "          'is': 2,\n",
       "          'or': 1,\n",
       "          'output': 1,\n",
       "          'piped': 1,\n",
       "          'redirected': 1,\n",
       "          'the': 1,\n",
       "          'unnecessary': 1}),\n",
       " Counter({'a': 1,\n",
       "          'adjacent': 1,\n",
       "          'cat': 1,\n",
       "          'concern': 1,\n",
       "          'default': 1,\n",
       "          'delete': 1,\n",
       "          'error': 1,\n",
       "          'file': 2,\n",
       "          'human': 1,\n",
       "          'instead': 1,\n",
       "          'is': 2,\n",
       "          'just': 1,\n",
       "          'keyboards': 1,\n",
       "          'may': 1,\n",
       "          'named': 1,\n",
       "          'needing': 1,\n",
       "          'of': 2,\n",
       "          'often': 1,\n",
       "          'on': 1,\n",
       "          'one': 2,\n",
       "          'permanently': 1,\n",
       "          'read': 1,\n",
       "          'redirection': 1,\n",
       "          'safer': 1,\n",
       "          'symbol': 1,\n",
       "          'the': 2,\n",
       "          'to': 1,\n",
       "          'use': 1,\n",
       "          'were': 1,\n",
       "          'where': 1,\n",
       "          'with': 1,\n",
       "          'wrong': 1,\n",
       "          'you': 1}),\n",
       " Counter({'a': 2,\n",
       "          'and': 1,\n",
       "          'by': 1,\n",
       "          'cat': 1,\n",
       "          'clear': 1,\n",
       "          'commands': 1,\n",
       "          'connected': 1,\n",
       "          'flow': 1,\n",
       "          'has': 1,\n",
       "          'in': 1,\n",
       "          'information': 1,\n",
       "          'left': 1,\n",
       "          'legibility': 1,\n",
       "          'of': 3,\n",
       "          'pipes': 1,\n",
       "          'right': 1,\n",
       "          'sequence': 1,\n",
       "          'starting': 1,\n",
       "          'terms': 1,\n",
       "          'to': 1,\n",
       "          'with': 1}),\n",
       " Counter({'basic': 1,\n",
       "          'cat': 1,\n",
       "          'command': 1,\n",
       "          'commands': 1,\n",
       "          'in': 1,\n",
       "          'is': 1,\n",
       "          'learned': 1,\n",
       "          'linux': 1,\n",
       "          'of': 1,\n",
       "          'one': 1,\n",
       "          'started': 1,\n",
       "          'that': 1,\n",
       "          'the': 2,\n",
       "          'unix': 1,\n",
       "          'when': 1,\n",
       "          'world': 1,\n",
       "          'you': 2}),\n",
       " Counter({'a': 1,\n",
       "          'be': 1,\n",
       "          'can': 1,\n",
       "          'cat': 1,\n",
       "          'command': 1,\n",
       "          'file': 1,\n",
       "          'from': 1,\n",
       "          'lines': 1,\n",
       "          'new': 1,\n",
       "          'received': 1,\n",
       "          'redirected': 1,\n",
       "          'redirection': 1,\n",
       "          'stdin': 1,\n",
       "          'symbols': 1,\n",
       "          'the': 1,\n",
       "          'to': 1,\n",
       "          'using': 2}),\n",
       " Counter({'and': 1,\n",
       "          'any': 1,\n",
       "          'arguments': 1,\n",
       "          'cat': 1,\n",
       "          'command': 1,\n",
       "          'content': 1,\n",
       "          'displays': 1,\n",
       "          'in': 1,\n",
       "          'it': 2,\n",
       "          'just': 1,\n",
       "          'receives': 1,\n",
       "          'simply': 1,\n",
       "          'stdin': 1,\n",
       "          'stdout': 1,\n",
       "          'the': 2,\n",
       "          'type': 1,\n",
       "          'when': 1,\n",
       "          'without': 1,\n",
       "          'you': 1}),\n",
       " Counter({'and': 1,\n",
       "          'as': 1,\n",
       "          'available': 1,\n",
       "          'editions': 1,\n",
       "          'in': 1,\n",
       "          'is': 1,\n",
       "          'leopard': 1,\n",
       "          'october': 1,\n",
       "          'of': 1,\n",
       "          'on': 1,\n",
       "          'released': 1,\n",
       "          'successor': 1,\n",
       "          'the': 1,\n",
       "          'tiger': 1,\n",
       "          'two': 1,\n",
       "          'version': 1,\n",
       "          'was': 1}),\n",
       " Counter({'according': 1,\n",
       "          'and': 1,\n",
       "          'apple': 1,\n",
       "          'changes': 1,\n",
       "          'contains': 1,\n",
       "          'enhancements': 1,\n",
       "          'its': 1,\n",
       "          'leopard': 1,\n",
       "          'mac': 1,\n",
       "          'os': 1,\n",
       "          'over': 2,\n",
       "          'predecessor': 1,\n",
       "          'tiger': 1,\n",
       "          'to': 1,\n",
       "          'x': 1}),\n",
       " Counter({'allow': 1,\n",
       "          'apple': 1,\n",
       "          'as': 1,\n",
       "          'computers': 1,\n",
       "          'factory': 1,\n",
       "          'firmware': 1,\n",
       "          'have': 1,\n",
       "          'installation': 1,\n",
       "          'installed': 1,\n",
       "          'leopard': 1,\n",
       "          'longer': 1,\n",
       "          'mac': 1,\n",
       "          'mid': 1,\n",
       "          'no': 1,\n",
       "          'of': 2,\n",
       "          'os': 1,\n",
       "          'some': 1,\n",
       "          'which': 1,\n",
       "          'will': 1,\n",
       "          'x': 1}),\n",
       " Counter({'allows': 1,\n",
       "          'also': 1,\n",
       "          'and': 2,\n",
       "          'apple': 2,\n",
       "          'based': 1,\n",
       "          'be': 1,\n",
       "          'community': 1,\n",
       "          'computers': 2,\n",
       "          'developed': 1,\n",
       "          'has': 1,\n",
       "          'in': 1,\n",
       "          'installed': 1,\n",
       "          'intel': 1,\n",
       "          'later': 1,\n",
       "          'mac': 1,\n",
       "          'moved': 1,\n",
       "          'non': 1,\n",
       "          'now': 1,\n",
       "          'on': 1,\n",
       "          'os': 1,\n",
       "          'osx': 1,\n",
       "          'processors': 1,\n",
       "          'releases': 1,\n",
       "          'since': 1,\n",
       "          'the': 1,\n",
       "          'their': 1,\n",
       "          'tiger': 1,\n",
       "          'to': 2,\n",
       "          'using': 1,\n",
       "          'x': 2}),\n",
       " Counter({'a': 1,\n",
       "          'and': 2,\n",
       "          'app': 1,\n",
       "          'apple': 1,\n",
       "          'as': 1,\n",
       "          'download': 1,\n",
       "          'every': 1,\n",
       "          'for': 1,\n",
       "          'july': 1,\n",
       "          'lion': 1,\n",
       "          'mac': 1,\n",
       "          'mountain': 1,\n",
       "          'of': 1,\n",
       "          'on': 1,\n",
       "          'online': 1,\n",
       "          'os': 2,\n",
       "          'part': 1,\n",
       "          'purchase': 1,\n",
       "          'released': 1,\n",
       "          'releasing': 1,\n",
       "          's': 1,\n",
       "          'store': 1,\n",
       "          'switch': 1,\n",
       "          'through': 1,\n",
       "          'to': 1,\n",
       "          'versions': 1,\n",
       "          'was': 1,\n",
       "          'x': 2,\n",
       "          'year': 1}),\n",
       " Counter({'a': 1,\n",
       "          'and': 1,\n",
       "          'apple': 1,\n",
       "          'for': 1,\n",
       "          'has': 1,\n",
       "          'lion': 1,\n",
       "          'mavericks': 1,\n",
       "          'most': 1,\n",
       "          'mountain': 1,\n",
       "          'of': 1,\n",
       "          'on': 1,\n",
       "          'os': 1,\n",
       "          'patch': 1,\n",
       "          'recent': 1,\n",
       "          'released': 1,\n",
       "          'running': 1,\n",
       "          'safari': 1,\n",
       "          'small': 1,\n",
       "          'the': 1,\n",
       "          'three': 1,\n",
       "          'versions': 1,\n",
       "          'x': 1,\n",
       "          'yosemite': 1}),\n",
       " Counter({'a': 1,\n",
       "          'an': 1,\n",
       "          'apple': 1,\n",
       "          'cat': 1,\n",
       "          'entirely': 1,\n",
       "          'has': 1,\n",
       "          'incremental': 1,\n",
       "          'lion': 1,\n",
       "          'marks': 1,\n",
       "          'mountain': 1,\n",
       "          'new': 1,\n",
       "          'offered': 1,\n",
       "          'rather': 1,\n",
       "          'release': 1,\n",
       "          'releasing': 1,\n",
       "          'second': 1,\n",
       "          'than': 1,\n",
       "          'the': 2,\n",
       "          'time': 1,\n",
       "          'upgrade': 1}),\n",
       " Counter({'a': 1,\n",
       "          'an': 1,\n",
       "          'create': 1,\n",
       "          'disk': 1,\n",
       "          'drive': 1,\n",
       "          'external': 1,\n",
       "          'in': 1,\n",
       "          'installation': 1,\n",
       "          'installs': 1,\n",
       "          'lion': 1,\n",
       "          'mac': 1,\n",
       "          'mountain': 1,\n",
       "          'need': 1,\n",
       "          'off': 1,\n",
       "          'or': 1,\n",
       "          'os': 1,\n",
       "          'place': 1,\n",
       "          'run': 1,\n",
       "          'separate': 1,\n",
       "          'so': 1,\n",
       "          't': 1,\n",
       "          'the': 1,\n",
       "          'to': 1,\n",
       "          'won': 1,\n",
       "          'x': 1,\n",
       "          'you': 1}),\n",
       " Counter({'a': 1,\n",
       "          'apple': 1,\n",
       "          'by': 1,\n",
       "          'contains': 1,\n",
       "          'count': 1,\n",
       "          'features': 1,\n",
       "          'fifth': 1,\n",
       "          'leopard': 1,\n",
       "          'mac': 1,\n",
       "          'major': 1,\n",
       "          'more': 1,\n",
       "          'mountain': 1,\n",
       "          'of': 1,\n",
       "          'os': 1,\n",
       "          's': 1,\n",
       "          'such': 1,\n",
       "          'than': 1,\n",
       "          'the': 1,\n",
       "          'to': 1,\n",
       "          'update': 1,\n",
       "          'x': 1})]"
      ]
     },
     "execution_count": 114,
     "metadata": {},
     "output_type": "execute_result"
    }
   ],
   "source": [
    "list_of_words"
   ]
  },
  {
   "cell_type": "code",
   "execution_count": 104,
   "metadata": {},
   "outputs": [],
   "source": [
    "unique_words = set()\n",
    "for i in list_of_words:\n",
    "    unique_words |= i.keys()"
   ]
  },
  {
   "cell_type": "code",
   "execution_count": 118,
   "metadata": {},
   "outputs": [],
   "source": [
    "words_matrix = []\n",
    "for sentence in list_of_words:\n",
    "    for u_w in unique_words:\n",
    "        words_matrix.append(sentence.get(u_w, 0))"
   ]
  },
  {
   "cell_type": "code",
   "execution_count": 123,
   "metadata": {},
   "outputs": [],
   "source": [
    "words_matrix = np.array(words_matrix).reshape((len(lines), len(unique_words)))"
   ]
  },
  {
   "cell_type": "code",
   "execution_count": 140,
   "metadata": {},
   "outputs": [],
   "source": [
    "koeff = []\n",
    "for r in words_matrix:\n",
    "    koeff.append((dist.cosine(words_matrix[0], r)))"
   ]
  },
  {
   "cell_type": "code",
   "execution_count": 141,
   "metadata": {},
   "outputs": [
    {
     "data": {
      "text/plain": [
       "[0.0,\n",
       " 0.9527544408738466,\n",
       " 0.8644738145642124,\n",
       " 0.8951715163278082,\n",
       " 0.7770887149698589,\n",
       " 0.9402385695332803,\n",
       " 0.7327387580875756,\n",
       " 0.9258750683338899,\n",
       " 0.8842724875284311,\n",
       " 0.9055088817476932,\n",
       " 0.8328165362273942,\n",
       " 0.8804771390665607,\n",
       " 0.8396432548525454,\n",
       " 0.8703592552895671,\n",
       " 0.8740118423302576,\n",
       " 0.9442721787424647,\n",
       " 0.8406361854220809,\n",
       " 0.956644501523794,\n",
       " 0.9442721787424647,\n",
       " 0.8885443574849294,\n",
       " 0.8427572744917122,\n",
       " 0.8250364469440588]"
      ]
     },
     "execution_count": 141,
     "metadata": {},
     "output_type": "execute_result"
    }
   ],
   "source": [
    "koeff"
   ]
  },
  {
   "cell_type": "code",
   "execution_count": null,
   "metadata": {},
   "outputs": [],
   "source": [
    "So the lower cosine distance is the more common sentences are. 17 18"
   ]
  },
  {
   "cell_type": "markdown",
   "metadata": {},
   "source": [
    "### Task2.\n",
    "Function approximation using polynom"
   ]
  },
  {
   "cell_type": "code",
   "execution_count": 180,
   "metadata": {},
   "outputs": [],
   "source": [
    "def f(x):\n",
    "    return w[0]+ w[1]*x\n",
    "\n",
    "def f_2(x):\n",
    "    return w_3[0]+ w_3[1]*x + w_3[2]*x**2\n",
    "\n",
    "def f_4(x):\n",
    "    return w_4[0]+ w_4[1]*x + w_4[2]*x**2 + w_4[3]*x**3\n",
    "\n",
    "def f_sample(x):\n",
    "    return sin(x / 5) * exp(x / 10) + 5 * exp(-x / 2)"
   ]
  },
  {
   "cell_type": "code",
   "execution_count": 102,
   "metadata": {},
   "outputs": [
    {
     "data": {
      "text/plain": [
       "[<matplotlib.lines.Line2D at 0x6186ecf98>]"
      ]
     },
     "execution_count": 102,
     "metadata": {},
     "output_type": "execute_result"
    },
    {
     "data": {
      "image/png": "[encoded data removed]",
      "text/plain": [
       "<matplotlib.figure.Figure at 0x6186ecd68>"
      ]
     },
     "metadata": {},
     "output_type": "display_data"
    }
   ],
   "source": [
    "A = np.array([[1., 1.],[1, 15.0]])\n",
    "b = np.array([3.24, 0.63])\n",
    "w = lin.solve(A, b)\n",
    "fig, ax = plt.subplots()\n",
    "x = np.array([0, 2, 12, 16])\n",
    "ax.plot(x, f(x), label=\"Approximation with polynom of n2\")\n",
    "ax.plot(x, f_sample(x), label=\"To compare\")"
   ]
  },
  {
   "cell_type": "code",
   "execution_count": 103,
   "metadata": {},
   "outputs": [
    {
     "data": {
      "text/plain": [
       "[<matplotlib.lines.Line2D at 0x61876b320>]"
      ]
     },
     "execution_count": 103,
     "metadata": {},
     "output_type": "execute_result"
    },
    {
     "data": {
      "image/png": "[encoded data removed]",
      "text/plain": [
       "<matplotlib.figure.Figure at 0x6186f2198>"
      ]
     },
     "metadata": {},
     "output_type": "display_data"
    }
   ],
   "source": [
    "A = np.array([[1.,1., 1.],\n",
    "              [1., 8., 64.], \n",
    "              [1., 15., 225.]])\n",
    "b = np.array([3.24, 2.32, 0.63])\n",
    "w_3 = lin.solve(A, b)\n",
    "fig, ax = plt.subplots()\n",
    "x = np.linspace(0,16,200)\n",
    "ax.plot(x, f_2(x), label=\"Approximation with polynom of n3\")\n",
    "ax.plot(x, f_sample(x), label=\"To compare\")"
   ]
  },
  {
   "cell_type": "code",
   "execution_count": 104,
   "metadata": {},
   "outputs": [
    {
     "data": {
      "text/plain": [
       "[<matplotlib.lines.Line2D at 0x6189c7ba8>]"
      ]
     },
     "execution_count": 104,
     "metadata": {},
     "output_type": "execute_result"
    },
    {
     "data": {
      "image/png": "[encoded data removed]",
      "text/plain": [
       "<matplotlib.figure.Figure at 0x6189c7978>"
      ]
     },
     "metadata": {},
     "output_type": "display_data"
    }
   ],
   "source": [
    "A = np.array([[1.,1., 1., 1.],\n",
    "              [1., 4., 16., 64.], \n",
    "              [1., 10., 100., 1000.], \n",
    "              [1., 15., 225., 3375.]])\n",
    "b = np.array([3.24, 1.75, 2.51, 0.63])\n",
    "w_4 = lin.solve(A, b)\n",
    "fig, ax = plt.subplots()\n",
    "ax.axis([0, 16, 0., 5])\n",
    "x = np.array([0,2,4,5,8,10,12,16])\n",
    "ax.plot(x, f_4(x), label=\"Approximation with polynom of n4\")\n",
    "ax.plot(x, f_sample(x), label=\"To compare\")"
   ]
  },
  {
   "cell_type": "markdown",
   "metadata": {},
   "source": [
    "### Minimization of smooth function"
   ]
  },
  {
   "cell_type": "code",
   "execution_count": 191,
   "metadata": {},
   "outputs": [],
   "source": [
    "def show_plot(x , f_x=None):\n",
    "    if f_x is None:\n",
    "        f_x = np.arange(1, 40, 0.5)\n",
    "    fig, ax = plt.subplots()\n",
    "    ax.plot(x, f_x, label=\"Original function\")\n",
    "    \n",
    "def f_sample(x):\n",
    "    return np.sin(x / 5) * np.exp(x / 10) + 5 * np.exp(-x / 2)\n",
    "\n",
    "def f_sample_int(x):\n",
    "    return int(math.sin(x / 5) * math.exp(x / 10) + 5 * math.exp(-x / 2))"
   ]
  },
  {
   "cell_type": "code",
   "execution_count": 144,
   "metadata": {},
   "outputs": [
    {
     "data": {
      "text/plain": [
       "      fun: -11.898894665981311\n",
       " hess_inv: array([[123.27588322]])\n",
       "      jac: array([-2.38418579e-07])\n",
       "  message: 'Optimization terminated successfully.'\n",
       "     nfev: 63\n",
       "      nit: 2\n",
       "     njev: 21\n",
       "   status: 0\n",
       "  success: True\n",
       "        x: array([25.88019285])"
      ]
     },
     "execution_count": 144,
     "metadata": {},
     "output_type": "execute_result"
    }
   ],
   "source": [
    "x = np.arange(1,30, 0.5)\n",
    "scipy.optimize.minimize(f_sample, 11)"
   ]
  },
  {
   "cell_type": "code",
   "execution_count": 148,
   "metadata": {},
   "outputs": [
    {
     "data": {
      "text/plain": [
       "      fun: -11.898894665981322\n",
       " hess_inv: array([[1.67940841]])\n",
       "      jac: array([0.])\n",
       "  message: 'Optimization terminated successfully.'\n",
       "     nfev: 21\n",
       "      nit: 6\n",
       "     njev: 7\n",
       "   status: 0\n",
       "  success: True\n",
       "        x: array([25.880193])"
      ]
     },
     "execution_count": 148,
     "metadata": {},
     "output_type": "execute_result"
    }
   ],
   "source": [
    "scipy.optimize.minimize(f_sample, 30, method='BFGS')"
   ]
  },
  {
   "cell_type": "code",
   "execution_count": 150,
   "metadata": {},
   "outputs": [
    {
     "data": {
      "image/png": "[encoded data removed]",
      "text/plain": [
       "<matplotlib.figure.Figure at 0x151bbe7240>"
      ]
     },
     "metadata": {},
     "output_type": "display_data"
    }
   ],
   "source": [
    "show_plot()"
   ]
  },
  {
   "cell_type": "code",
   "execution_count": 154,
   "metadata": {},
   "outputs": [
    {
     "data": {
      "text/plain": [
       "     fun: array([-11.89889467])\n",
       "     jac: array([1.77635684e-07])\n",
       " message: 'Optimization terminated successfully.'\n",
       "    nfev: 128\n",
       "     nit: 7\n",
       " success: True\n",
       "       x: array([25.88019349])"
      ]
     },
     "execution_count": 154,
     "metadata": {},
     "output_type": "execute_result"
    }
   ],
   "source": [
    "scipy.optimize.differential_evolution(f_sample, bounds=[(1,30)])"
   ]
  },
  {
   "cell_type": "code",
   "execution_count": 190,
   "metadata": {},
   "outputs": [
    {
     "data": {
      "image/png": "[encoded data removed]",
      "text/plain": [
       "<matplotlib.figure.Figure at 0x151c368ba8>"
      ]
     },
     "metadata": {},
     "output_type": "display_data"
    }
   ],
   "source": [
    "res = f_sample(np.arange(1, 30, 0.1))\n",
    "show_plot(res, [int(i) for i in res])"
   ]
  },
  {
   "cell_type": "code",
   "execution_count": 196,
   "metadata": {},
   "outputs": [
    {
     "data": {
      "text/plain": [
       "      fun: -5\n",
       " hess_inv: array([[1]])\n",
       "      jac: array([0.])\n",
       "  message: 'Optimization terminated successfully.'\n",
       "     nfev: 3\n",
       "      nit: 0\n",
       "     njev: 1\n",
       "   status: 0\n",
       "  success: True\n",
       "        x: array([30.])"
      ]
     },
     "execution_count": 196,
     "metadata": {},
     "output_type": "execute_result"
    }
   ],
   "source": [
    "scipy.optimize.minimize(f_sample_int, 30, method='BFGS')"
   ]
  },
  {
   "cell_type": "code",
   "execution_count": 193,
   "metadata": {},
   "outputs": [
    {
     "data": {
      "text/plain": [
       "     fun: -11.0\n",
       " message: 'Optimization terminated successfully.'\n",
       "    nfev: 62\n",
       "     nit: 3\n",
       " success: True\n",
       "       x: array([25.04663837])"
      ]
     },
     "execution_count": 193,
     "metadata": {},
     "output_type": "execute_result"
    }
   ],
   "source": [
    "scipy.optimize.differential_evolution(f_sample_int, bounds=[(1,30)])"
   ]
  },
  {
   "cell_type": "code",
   "execution_count": 264,
   "metadata": {},
   "outputs": [
    {
     "data": {
      "text/plain": [
       "(array([61., 19., 13.,  3.,  3.,  0.,  0.,  0.,  0.,  1.]),\n",
       " array([2.03034612, 2.5076443 , 2.98494247, 3.46224065, 3.93953883,\n",
       "        4.416837  , 4.89413518, 5.37143335, 5.84873153, 6.32602971,\n",
       "        6.80332788]),\n",
       " <a list of 10 Patch objects>)"
      ]
     },
     "execution_count": 264,
     "metadata": {},
     "output_type": "execute_result"
    },
    {
     "data": {
      "image/png": "[encoded data removed]",
      "text/plain": [
       "<matplotlib.figure.Figure at 0x1a205234e0>"
      ]
     },
     "metadata": {},
     "output_type": "display_data"
    }
   ],
   "source": [
    "pareto = sts.pareto(b=4, scale=2)\n",
    "rs = pareto.rvs(size=100)\n",
    "plt.hist(rs, label='sample hist')"
   ]
  },
  {
   "cell_type": "code",
   "execution_count": 265,
   "metadata": {},
   "outputs": [
    {
     "data": {
      "text/plain": [
       "<matplotlib.legend.Legend at 0x1a21149b70>"
      ]
     },
     "execution_count": 265,
     "metadata": {},
     "output_type": "execute_result"
    },
    {
     "data": {
      "image/png": "[encoded data removed]",
      "text/plain": [
       "<matplotlib.figure.Figure at 0x1a210a5ac8>"
      ]
     },
     "metadata": {},
     "output_type": "display_data"
    }
   ],
   "source": [
    "x = np.linspace(0,10,100)\n",
    "p_pdf = pareto.pdf(x)\n",
    "plt.figure(figsize=(20,10))\n",
    "plt.plot(x, p_pdf, label='theoretical pdf')\n",
    "plt.hist(rs, normed=True, label='sample hist')\n",
    "plt.legend()"
   ]
  },
  {
   "cell_type": "markdown",
   "metadata": {},
   "source": [
    "b = alpha = shape = **4**    \n",
    "scale = x = scale = **2**\n",
    "\n",
    "$mu = \\frac {(alpha * X)} {alpha - 1}$   \n",
    "\n",
    "$var = \\frac{(alpha * X^2)}{(alpha-1)^2*(alpha-2)}$\n",
    "\n",
    "$N(mu; \\frac {\\sqrt var} {\\sqrt N})$\n",
    "\n"
   ]
  },
  {
   "cell_type": "code",
   "execution_count": 266,
   "metadata": {},
   "outputs": [
    {
     "data": {
      "text/plain": [
       "[<matplotlib.lines.Line2D at 0x1a2145d470>]"
      ]
     },
     "execution_count": 266,
     "metadata": {},
     "output_type": "execute_result"
    },
    {
     "data": {
      "image/png": "[encoded data removed]",
      "text/plain": [
       "<matplotlib.figure.Figure at 0x1a20fd8eb8>"
      ]
     },
     "metadata": {},
     "output_type": "display_data"
    }
   ],
   "source": [
    "p_cdf = pareto.cdf(x)\n",
    "plt.plot(x, p_cdf)"
   ]
  },
  {
   "cell_type": "code",
   "execution_count": 290,
   "metadata": {},
   "outputs": [
    {
     "data": {
      "image/png": "[encoded data removed]",
      "text/plain": [
       "<matplotlib.figure.Figure at 0x1a2874b9b0>"
      ]
     },
     "metadata": {},
     "output_type": "display_data"
    },
    {
     "data": {
      "image/png": "[encoded data removed]",
      "text/plain": [
       "<matplotlib.figure.Figure at 0x1a2894b400>"
      ]
     },
     "metadata": {},
     "output_type": "display_data"
    },
    {
     "data": {
      "image/png": "[encoded data removed]",
      "text/plain": [
       "<matplotlib.figure.Figure at 0x1a28917c18>"
      ]
     },
     "metadata": {},
     "output_type": "display_data"
    }
   ],
   "source": [
    "alpha = 4.\n",
    "x = 2.\n",
    "\n",
    "for N in [5, 10, 50]:\n",
    "    sample_n = []\n",
    "    for i in range(1000):\n",
    "        sample_n.append(pareto.rvs(size=N).mean())\n",
    "    plt.figure(figsize=(20,10))\n",
    "    plt.hist(sample_n, 30, normed=True, label='sample hist')\n",
    "    \n",
    "    mu = np.divide( (alpha * x), (alpha - 1))\n",
    "    var = np.divide(np.square(x) * alpha, np.square((alpha - 1)) * (alpha - 2))\n",
    "   \n",
    "    norm_dist = sts.norm(mu, np.sqrt(var) / np.sqrt(N))\n",
    "    arg = np.linspace(1,5,100)\n",
    "    \n",
    "    plt.plot(arg, norm_dist.pdf(arg), label='normal approximation')\n",
    "    plt.legend()"
   ]
  },
  {
   "cell_type": "code",
   "execution_count": null,
   "metadata": {},
   "outputs": [],
   "source": []
  }
 ],
 "metadata": {
  "kernelspec": {
   "display_name": "Python 3",
   "language": "python",
   "name": "python3"
  },
  "language_info": {
   "codemirror_mode": {
    "name": "ipython",
    "version": 3
   },
   "file_extension": ".py",
   "mimetype": "text/x-python",
   "name": "python",
   "nbconvert_exporter": "python",
   "pygments_lexer": "ipython3",
   "version": "3.6.4"
  },
  "toc": {
   "nav_menu": {},
   "number_sections": true,
   "sideBar": true,
   "skip_h1_title": false,
   "title_cell": "Table of Contents",
   "title_sidebar": "Contents",
   "toc_cell": false,
   "toc_position": {},
   "toc_section_display": true,
   "toc_window_display": false
  }
 },
 "nbformat": 4,
 "nbformat_minor": 2
}
